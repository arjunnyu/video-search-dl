{
  "nbformat": 4,
  "nbformat_minor": 0,
  "metadata": {
    "colab": {
      "provenance": []
    },
    "kernelspec": {
      "name": "python3",
      "display_name": "Python 3"
    },
    "language_info": {
      "name": "python"
    },
    "accelerator": "GPU",
    "gpuClass": "standard"
  },
  "cells": [
    {
      "cell_type": "markdown",
      "source": [
        "# CSGY 6953 Deep Learning Final Project\n",
        "In this project, we will implement a dual-encoder model for image search. In particular, our model will be fed a text query and will return several images that are related to the query. To do this task, our model will be trained so that it embeds both image and text data into the same space, and importantly, encodes relevant data to be close each other in the embedding space. This will be done by developing two encoders, one for image processing and the other for text encoding, and training them by a similarity-based loss function. <br>\n",
        "<br>\n",
        "In this notebook, I develop the evaluation metrics, median rank (**MedR**) and recall rate at top K (**R@K**). <br>\n",
        "<br>\n",
        "In the test phase, we first project all the test images into the embedding space via the image encoder. For each test (image, text) pair, we consider the text as a query, which is also mapped into the embedding space through the text encoder. Then, we rank all the test images by the similarity to the query. The **MedR** is the median of the rank of the true image over all the test data. So, smaller **MedR** indicates that the model works well. In **R@K**, we take only top K images for each query and check if the true image is included. By doing this check for all test data, we can calculate the probability that the true image is successfully retrieved. Thus, higher **R@K** is better."
      ],
      "metadata": {
        "id": "IJhTIUkxV-yW"
      }
    },
    {
      "cell_type": "markdown",
      "source": [
        "### Intuition behind the CosineEmbeddingLoss\n",
        "https://pytorch.org/docs/stable/generated/torch.nn.CosineEmbeddingLoss.html<br>\n",
        "$$\\text{loss}(x,y) = \\begin{cases} 1-\\cos(x_{image}, x_{text}) & \\text{if } y=1 \\\\ \\max(0, \\cos(x_{image}, x_{text})- \\text{margin}) & \\text{if } y=-1 \\end{cases}$$\n",
        "Let $d$ be the dimensionality of the embedding space. When negative pair $(x^-, -1)$ is given, we want to map $x_{image}, x_{text}$ in distant place. One might think that having $\\cos(x_{image}, x_{text}) = -1$ is ideal, but given $x_{image}$, there is only one vector (up to scaling) in the embedding space that satisfies it. Since we have many vectors that are separated each other, forcing all the pairs of them having cosine similarity (nearly) $-1$ is impossible. <br>\n",
        "By contrast, forcing them having cosine similarity (nearly) $0$ is possible. In other words, forcing them being (nearly) orthogonal is possible. Nearly orthogonal is defined as the normalized dot product is $0$ with a small error term $\\epsilon > 0$. That is, \n",
        "$$-\\epsilon \\leq \\frac{\\langle x_i, x_j \\rangle}{\\lVert x_i \\rVert_2 \\lVert x_j \\rVert_2} \\leq \\epsilon$$\n",
        "While there are only $d$ mutually orthogonal vectors in $d$ dimensional space, there exists $2^{\\Theta(\\epsilon^2 d)}$ mutually nearly orthogonal vectors. Thus, our goal is to train encoders so that negative inputs are mapped as nearly orthogonal. In this context, it makes sense not to penalize so long as cosine similarity is negative, and moreover, allow a small margin to let vectors nearly orthogonal, not strictly orthogonal. <br>\n",
        "Note that for positive pairs, this loss function enforces them to having cosine similarity $1$."
      ],
      "metadata": {
        "id": "_yx06Sfl22Hc"
      }
    },
    {
      "cell_type": "code",
      "execution_count": 1,
      "metadata": {
        "id": "W1jCGXeDVVSM"
      },
      "outputs": [],
      "source": [
        "import numpy as np\n",
        "import matplotlib.pyplot as plt\n",
        "import pickle\n",
        "import random\n",
        "import tqdm"
      ]
    },
    {
      "cell_type": "code",
      "source": [
        "from google.colab import drive\n",
        "drive.mount('/content/drive')"
      ],
      "metadata": {
        "colab": {
          "base_uri": "https://localhost:8080/"
        },
        "id": "ebQuixn6ZKEk",
        "outputId": "0a93a315-ee70-4e0f-ff86-646787d464c5"
      },
      "execution_count": 3,
      "outputs": [
        {
          "output_type": "stream",
          "name": "stdout",
          "text": [
            "Mounted at /content/drive\n"
          ]
        }
      ]
    },
    {
      "cell_type": "code",
      "source": [
        "with open(f\"drive/My Drive/finalproj/data/dataset.pkl\", \"rb\") as f:\n",
        "    dataset = pickle.load(f)"
      ],
      "metadata": {
        "id": "RiD9kidTZLVH"
      },
      "execution_count": 4,
      "outputs": []
    },
    {
      "cell_type": "code",
      "source": [
        "text_len = [len(s.split()) for s in dataset[\"texts\"]]\n",
        "plt.figure(figsize=(5,3))\n",
        "plt.xlabel(\"caption length\")\n",
        "plt.ylabel(\"# captions\")\n",
        "plt.hist(text_len)\n",
        "plt.show()\n",
        "print(\"Shortest caption length: \" + str(min(text_len)))\n",
        "print(\"Longest caption length: \" + str(max(text_len)))\n",
        "\n",
        "max_len = 55 # BERT tokenizer is not one word per one embedding.\n",
        "print(\"The maximum sentence length for the text encoder is set to \" + str(max_len) + \".\")"
      ],
      "metadata": {
        "colab": {
          "base_uri": "https://localhost:8080/",
          "height": 277
        },
        "id": "C0OMHApOozeC",
        "outputId": "042a5448-1a6d-4e32-dd2d-52be90b45801"
      },
      "execution_count": 5,
      "outputs": [
        {
          "output_type": "display_data",
          "data": {
            "text/plain": [
              "<Figure size 360x216 with 1 Axes>"
            ],
            "image/png": "[encoded data removed]"
          },
          "metadata": {
            "needs_background": "light"
          }
        },
        {
          "output_type": "stream",
          "name": "stdout",
          "text": [
            "Shortest caption length: 6\n",
            "Longest caption length: 46\n",
            "The maximum sentence length for the text encoder is set to 46.\n"
          ]
        }
      ]
    },
    {
      "cell_type": "code",
      "source": [
        "train_pct = 0.7\n",
        "threshold = int(len(dataset[\"images\"]) * train_pct)\n",
        "train_images = dataset[\"images\"][:threshold]\n",
        "train_texts = dataset[\"texts\"][:threshold * 10]\n",
        "test_images = dataset[\"images\"][threshold:]\n",
        "test_texts = dataset[\"texts\"][threshold * 10:]\n",
        "print(f\"Training images: \", len(train_images))\n",
        "print(f\"Training texts: \", len(train_texts))\n",
        "print(f\"Test images: \", len(test_images))\n",
        "print(f\"Test texts: \", len(test_texts))"
      ],
      "metadata": {
        "colab": {
          "base_uri": "https://localhost:8080/"
        },
        "id": "AgDpODirZScy",
        "outputId": "63f980e3-85f9-4075-888a-f81e8b68c185"
      },
      "execution_count": 6,
      "outputs": [
        {
          "output_type": "stream",
          "name": "stdout",
          "text": [
            "Training images:  3150\n",
            "Training texts:  31500\n",
            "Test images:  1350\n",
            "Test texts:  13500\n"
          ]
        }
      ]
    },
    {
      "cell_type": "code",
      "source": [
        "import torch\n",
        "from torch.utils.data import Dataset, DataLoader"
      ],
      "metadata": {
        "id": "kaBGEWLpZTsi"
      },
      "execution_count": 7,
      "outputs": []
    },
    {
      "cell_type": "code",
      "source": [
        "# Reference: https://pytorch.org/tutorials/beginner/data_loading_tutorial.html\n",
        "\n",
        "class DualEncoderDataset(Dataset):\n",
        "    def __init__(self, images, texts, neg_rate=4):\n",
        "        # This class assumes that num_image < num_texts, and the number of texts per image is the same for all images.\n",
        "        self.imagedata = images\n",
        "        self.textdata = texts\n",
        "        self.num_images = len(images)\n",
        "        self.num_texts = len(texts)\n",
        "        self.image_text_rate = int(self.num_texts / self.num_images)\n",
        "        self.num_negative = int(self.num_texts * neg_rate)\n",
        "        self.random_map = []\n",
        "        self.shuffle()\n",
        "    \n",
        "    def shuffle(self):\n",
        "        self.random_map = np.random.randint(0, self.num_texts - self.image_text_rate, self.num_negative)\n",
        "        for i in range(self.num_negative):\n",
        "            if self.random_map[i] >= i % self.num_texts // self.image_text_rate * self.image_text_rate:\n",
        "                self.random_map[i] += self.image_text_rate\n",
        "    \n",
        "    def __len__(self):\n",
        "        return self.num_texts + self.num_negative\n",
        "\n",
        "    def __getitem__(self, sample_idx):\n",
        "        if torch.is_tensor(sample_idx):\n",
        "            sample_idx = sample_idx[0].tolist()\n",
        "        image_idx = sample_idx % self.num_texts // self.image_text_rate\n",
        "        if sample_idx < self.num_texts:\n",
        "            text_idx = sample_idx\n",
        "        else:\n",
        "            text_idx = self.random_map[sample_idx - self.num_texts]\n",
        "        sample = {\"images\": self.imagedata[image_idx], \"texts\": self.textdata[text_idx], \"labels\": int(sample_idx < self.num_texts) * 2 - 1}\n",
        "        return sample"
      ],
      "metadata": {
        "id": "wv2zQDXTZYpi"
      },
      "execution_count": 8,
      "outputs": []
    },
    {
      "cell_type": "code",
      "source": [
        "device = torch.device(\"cuda\" if torch.cuda.is_available() else \"cpu\")\n",
        "print(\"The device is \" + device.type)"
      ],
      "metadata": {
        "colab": {
          "base_uri": "https://localhost:8080/"
        },
        "id": "vJvcxfAnZcWC",
        "outputId": "64977934-e299-4efb-a421-09736151f2cd"
      },
      "execution_count": 12,
      "outputs": [
        {
          "output_type": "stream",
          "name": "stdout",
          "text": [
            "The device is cuda\n"
          ]
        }
      ]
    },
    {
      "cell_type": "code",
      "source": [
        "import torchvision\n",
        "!pip install transformers\n",
        "from transformers import BertModel, BertTokenizerFast"
      ],
      "metadata": {
        "colab": {
          "base_uri": "https://localhost:8080/"
        },
        "id": "kvR8V_nIaN-R",
        "outputId": "4271125f-67a2-44e6-bc52-e635c369e71b"
      },
      "execution_count": 13,
      "outputs": [
        {
          "output_type": "stream",
          "name": "stdout",
          "text": [
            "Looking in indexes: https://pypi.org/simple, https://us-python.pkg.dev/colab-wheels/public/simple/\n",
            "Collecting transformers\n",
            "  Downloading transformers-4.25.1-py3-none-any.whl (5.8 MB)\n",
            "\u001b[K     |████████████████████████████████| 5.8 MB 46.2 MB/s \n",
            "\u001b[?25hRequirement already satisfied: packaging>=20.0 in /usr/local/lib/python3.8/dist-packages (from transformers) (21.3)\n",
            "Requirement already satisfied: pyyaml>=5.1 in /usr/local/lib/python3.8/dist-packages (from transformers) (6.0)\n",
            "Requirement already satisfied: requests in /usr/local/lib/python3.8/dist-packages (from transformers) (2.23.0)\n",
            "Collecting tokenizers!=0.11.3,<0.14,>=0.11.1\n",
            "  Downloading tokenizers-0.13.2-cp38-cp38-manylinux_2_17_x86_64.manylinux2014_x86_64.whl (7.6 MB)\n",
            "\u001b[K     |████████████████████████████████| 7.6 MB 56.0 MB/s \n",
            "\u001b[?25hRequirement already satisfied: filelock in /usr/local/lib/python3.8/dist-packages (from transformers) (3.8.0)\n",
            "Requirement already satisfied: tqdm>=4.27 in /usr/local/lib/python3.8/dist-packages (from transformers) (4.64.1)\n",
            "Collecting huggingface-hub<1.0,>=0.10.0\n",
            "  Downloading huggingface_hub-0.11.1-py3-none-any.whl (182 kB)\n",
            "\u001b[K     |████████████████████████████████| 182 kB 77.7 MB/s \n",
            "\u001b[?25hRequirement already satisfied: regex!=2019.12.17 in /usr/local/lib/python3.8/dist-packages (from transformers) (2022.6.2)\n",
            "Requirement already satisfied: numpy>=1.17 in /usr/local/lib/python3.8/dist-packages (from transformers) (1.21.6)\n",
            "Requirement already satisfied: typing-extensions>=3.7.4.3 in /usr/local/lib/python3.8/dist-packages (from huggingface-hub<1.0,>=0.10.0->transformers) (4.4.0)\n",
            "Requirement already satisfied: pyparsing!=3.0.5,>=2.0.2 in /usr/local/lib/python3.8/dist-packages (from packaging>=20.0->transformers) (3.0.9)\n",
            "Requirement already satisfied: urllib3!=1.25.0,!=1.25.1,<1.26,>=1.21.1 in /usr/local/lib/python3.8/dist-packages (from requests->transformers) (1.24.3)\n",
            "Requirement already satisfied: certifi>=2017.4.17 in /usr/local/lib/python3.8/dist-packages (from requests->transformers) (2022.9.24)\n",
            "Requirement already satisfied: chardet<4,>=3.0.2 in /usr/local/lib/python3.8/dist-packages (from requests->transformers) (3.0.4)\n",
            "Requirement already satisfied: idna<3,>=2.5 in /usr/local/lib/python3.8/dist-packages (from requests->transformers) (2.10)\n",
            "Installing collected packages: tokenizers, huggingface-hub, transformers\n",
            "Successfully installed huggingface-hub-0.11.1 tokenizers-0.13.2 transformers-4.25.1\n"
          ]
        }
      ]
    },
    {
      "cell_type": "code",
      "source": [
        "class Incep3Encoder(torch.nn.Module):\n",
        "    def __init__(self, embed_dim):\n",
        "        super(Incep3Encoder, self).__init__()\n",
        "\n",
        "        self.incep3 = torchvision.models.inception_v3(pretrained=True)\n",
        "        self.incep3.aux_logits = False # We don't use the auxiliary output.\n",
        "        for parameter in self.incep3.parameters():\n",
        "            parameter.requires_grad = False # Freeze all the parameters.\n",
        "        self.incep3.fc = torch.nn.Sequential(\n",
        "            torch.nn.Linear(self.incep3.fc.in_features, 512), # in_features=2048 in Inception V3.\n",
        "            torch.nn.ReLU(),\n",
        "            torch.nn.Linear(512, embed_dim),\n",
        "            torch.nn.Tanh()\n",
        "        )\n",
        "\n",
        "    def forward(self, x):\n",
        "        return self.incep3(x)\n",
        "\n",
        "class BertEncoder(torch.nn.Module):\n",
        "    def __init__(self, embed_dim):\n",
        "        super(BertEncoder, self).__init__()\n",
        "\n",
        "        self.bert = BertModel.from_pretrained(\"bert-base-uncased\", output_attentions=False) # With bert-base-uncased, all the input are lowercased before being tokenized.\n",
        "        for parameter in self.bert.parameters():\n",
        "            parameter.requires_grad = False # Freeze all the parameters.\n",
        "        self.fc = torch.nn.Sequential(\n",
        "            torch.nn.Linear(self.bert.config.hidden_size, 512), # hidden_size=768.\n",
        "            torch.nn.ReLU(),\n",
        "            torch.nn.Linear(512, embed_dim),\n",
        "            torch.nn.Tanh()\n",
        "        )\n",
        "    \n",
        "    def forward(self, input_ids, attention_mask):\n",
        "        last_hidden, _ = self.bert(input_ids=input_ids, attention_mask=attention_mask, return_dict=False)\n",
        "        return self.fc(last_hidden[:, 0])\n",
        "\n",
        "def Encoder(name, embed_dim=128):\n",
        "    if name == \"InceptionV3\":\n",
        "        return Incep3Encoder(embed_dim)\n",
        "    elif name == \"BERT\":\n",
        "        return BertEncoder(embed_dim)\n",
        "    else:\n",
        "        raise ValueError(name + \" has not been implemented!\")\n",
        "\n",
        "def printParameters(encoder=\"all\"):\n",
        "    print(\"\\n\")\n",
        "    if encoder in [\"image\", \"all\"]:\n",
        "        image_enc_total_params = 0\n",
        "        image_enc_trainable_params = 0\n",
        "        for parameter in image_enc.parameters():\n",
        "            image_enc_total_params += np.prod(parameter.size())\n",
        "            if parameter.requires_grad:\n",
        "                image_enc_trainable_params += np.prod(parameter.size())\n",
        "        print(f\"=== Image Encoder ===\")\n",
        "        print(f\"  Total Parameters: {image_enc_total_params:,}\")\n",
        "        print(f\"  Trainable Parameters: {image_enc_trainable_params:,}\\n\")\n",
        "    if encoder in [\"text\", \"all\"]:\n",
        "        text_enc_total_params = 0\n",
        "        text_enc_trainable_params = 0\n",
        "        for parameter in text_enc.parameters():\n",
        "            text_enc_total_params += np.prod(parameter.size())\n",
        "            if parameter.requires_grad:\n",
        "                text_enc_trainable_params += np.prod(parameter.size())\n",
        "        print(f\"=== Text Encoder ===\")\n",
        "        print(f\"  Total Parameters: {text_enc_total_params:,}\")\n",
        "        print(f\"  Trainable Parameters: {text_enc_trainable_params:,}\\n\")"
      ],
      "metadata": {
        "id": "QSF73dasaV3j"
      },
      "execution_count": 58,
      "outputs": []
    },
    {
      "cell_type": "code",
      "source": [
        "class ImagePreprocessor():\n",
        "    def process(self, x):\n",
        "        return torch.swapaxes(torch.swapaxes(x, 3, 2), 2, 1)\n",
        "\n",
        "class BertPreprocessor():\n",
        "    def __init__(self, max_len=50):\n",
        "        self.max_len = max_len\n",
        "        self.tokenizer = BertTokenizerFast.from_pretrained(\"bert-base-uncased\", model_max_length=self.max_len)\n",
        "    \n",
        "    def process(self, x):\n",
        "        padded_list = self.tokenizer.batch_encode_plus(x, padding=True)\n",
        "        input_ids = torch.LongTensor(np.array(padded_list[\"input_ids\"])) # It looks like bypassing numpy is faster.\n",
        "        attention_mask = torch.LongTensor(np.array(padded_list[\"attention_mask\"]))\n",
        "        return input_ids, attention_mask\n",
        "\n",
        "def Preprocessor(name, max_len=50):\n",
        "    if name in [\"InceptionV3\"]:\n",
        "        return ImagePreprocessor()\n",
        "    elif name in [\"BERT\"]:\n",
        "        return BertPreprocessor(max_len)\n",
        "    else:\n",
        "        raise ValueError(name + \" has not been implemented!\")"
      ],
      "metadata": {
        "id": "gP_ioNk9tZMW"
      },
      "execution_count": 50,
      "outputs": []
    },
    {
      "cell_type": "code",
      "source": [
        "embed_dim = 100\n",
        "image_model = \"InceptionV3\"\n",
        "text_model = \"BERT\"\n",
        "\n",
        "image_enc = Encoder(image_model, embed_dim).to(device)\n",
        "text_enc = Encoder(text_model, embed_dim).to(device)\n",
        "printParameters()\n",
        "\n",
        "image_proc = Preprocessor(image_model)\n",
        "text_proc = Preprocessor(text_model, max_len)"
      ],
      "metadata": {
        "colab": {
          "base_uri": "https://localhost:8080/"
        },
        "id": "6-IFKlBHnf8T",
        "outputId": "e48b71af-ece4-41dc-a549-bd9ca888c3e7"
      },
      "execution_count": 59,
      "outputs": [
        {
          "output_type": "stream",
          "name": "stderr",
          "text": [
            "Some weights of the model checkpoint at bert-base-uncased were not used when initializing BertModel: ['cls.seq_relationship.weight', 'cls.predictions.bias', 'cls.predictions.decoder.weight', 'cls.predictions.transform.dense.weight', 'cls.predictions.transform.LayerNorm.weight', 'cls.predictions.transform.LayerNorm.bias', 'cls.seq_relationship.bias', 'cls.predictions.transform.dense.bias']\n",
            "- This IS expected if you are initializing BertModel from the checkpoint of a model trained on another task or with another architecture (e.g. initializing a BertForSequenceClassification model from a BertForPreTraining model).\n",
            "- This IS NOT expected if you are initializing BertModel from the checkpoint of a model that you expect to be exactly identical (initializing a BertForSequenceClassification model from a BertForSequenceClassification model).\n"
          ]
        },
        {
          "output_type": "stream",
          "name": "stdout",
          "text": [
            "\n",
            "\n",
            "=== Image Encoder ===\n",
            "  Total Parameters: 26,212,652\n",
            "  Trainable Parameters: 1,100,388\n",
            "\n",
            "=== Text Encoder ===\n",
            "  Total Parameters: 109,927,268\n",
            "  Trainable Parameters: 445,028\n",
            "\n"
          ]
        }
      ]
    },
    {
      "cell_type": "code",
      "source": [
        "criterion = torch.nn.CosineEmbeddingLoss(margin=0.1) # Recipe 1M+ paper sets margin=0.1.\n",
        "image_optimizer = torch.optim.Adam(image_enc.parameters(), lr=0.001)\n",
        "text_optimizer = torch.optim.Adam(text_enc.parameters(), lr=0.001)"
      ],
      "metadata": {
        "id": "i-O5O-dXrLoX"
      },
      "execution_count": 17,
      "outputs": []
    },
    {
      "cell_type": "code",
      "source": [
        "def train():\n",
        "    image_enc.train()\n",
        "    text_enc.train()\n",
        "    train_loss = 0\n",
        "    n_samples = 0\n",
        "\n",
        "    for batch in trainloader:\n",
        "        image_batch = image_proc.process(batch[\"images\"]).to(device)\n",
        "        text_batch, attention_batch = text_proc.process(batch[\"texts\"])\n",
        "        text_batch = text_batch.to(device)\n",
        "        if attention_batch is not None:\n",
        "            attention_batch = attention_batch.to(device)\n",
        "        label_batch = torch.LongTensor(np.array(batch[\"labels\"])).to(device)\n",
        "\n",
        "        image_optimizer.zero_grad()\n",
        "        text_optimizer.zero_grad()\n",
        "        image_embedding = image_enc(image_batch)\n",
        "        if attention_batch is not None:\n",
        "            text_embedding = text_enc(text_batch, attention_batch)\n",
        "        else:\n",
        "            text_embedding = text_enc(text_batch)\n",
        "        loss = criterion(image_embedding, text_embedding, label_batch)\n",
        "        loss.backward()\n",
        "        image_optimizer.step()\n",
        "        text_optimizer.step()\n",
        "\n",
        "        train_loss += loss.item()\n",
        "        n_samples += label_batch.size(0)\n",
        "\n",
        "    train_loss /= n_samples\n",
        "    return train_loss\n",
        "\n",
        "def eval():\n",
        "    image_enc.eval()\n",
        "    text_enc.eval()\n",
        "    eval_loss = 0\n",
        "    n_samples = 0\n",
        "    with torch.no_grad():\n",
        "        for batch in testloader:\n",
        "            image_batch = image_proc.process(batch[\"images\"]).to(device)\n",
        "            text_batch, attention_batch = text_proc.process(batch[\"texts\"])\n",
        "            text_batch = text_batch.to(device)\n",
        "            if attention_batch is not None:\n",
        "                attention_batch = attention_batch.to(device)\n",
        "            label_batch = torch.LongTensor(np.array(batch[\"labels\"])).to(device)\n",
        "\n",
        "            image_embedding = image_enc(image_batch)\n",
        "            if attention_batch is not None:\n",
        "                text_embedding = text_enc(text_batch, attention_batch)\n",
        "            else:\n",
        "                text_embedding = text_enc(text_batch)\n",
        "            loss = criterion(image_embedding, text_embedding, label_batch)\n",
        "\n",
        "            eval_loss += loss\n",
        "            n_samples += label_batch\n",
        "\n",
        "    eval_loss /= n_samples\n",
        "    return eval_loss\n",
        "\n",
        "def test():\n",
        "    image_enc.eval()\n",
        "    text_enc.eval()\n",
        "    image_mapped = []\n",
        "    # Under construction!"
      ],
      "metadata": {
        "id": "OQ1VuVHbEGZE"
      },
      "execution_count": 18,
      "outputs": []
    },
    {
      "cell_type": "code",
      "source": [
        "epochs = 10\n",
        "batch_size = 128\n",
        "\n",
        "train_loss = []\n",
        "\n",
        "print(\"Start Training...\")\n",
        "for epoch in range(epochs):\n",
        "    if (epoch + 1) % 2 == 0:\n",
        "        print(\"\\nEpoch: \" + str(epoch + 1))\n",
        "    trainloader = DataLoader(DualEncoderDataset(train_images, train_texts, neg_rate=2), \n",
        "                             batch_size=batch_size, \n",
        "                             shuffle=True)\n",
        "    loss = train()\n",
        "    train_loss.append(loss)"
      ],
      "metadata": {
        "colab": {
          "base_uri": "https://localhost:8080/",
          "height": 433
        },
        "id": "dCKngBdHCwvu",
        "outputId": "803e8634-9e33-4ec0-a4c1-cefd466c3379"
      },
      "execution_count": 19,
      "outputs": [
        {
          "output_type": "stream",
          "name": "stdout",
          "text": [
            "Start Training...\n"
          ]
        },
        {
          "output_type": "stream",
          "name": "stderr",
          "text": [
            "Token indices sequence length is longer than the specified maximum sequence length for this model (53 > 46). Running this sequence through the model will result in indexing errors\n"
          ]
        },
        {
          "output_type": "stream",
          "name": "stdout",
          "text": [
            "\n",
            "Epoch: 2\n"
          ]
        },
        {
          "output_type": "error",
          "ename": "KeyboardInterrupt",
          "evalue": "ignored",
          "traceback": [
            "\u001b[0;31m---------------------------------------------------------------------------\u001b[0m",
            "\u001b[0;31mKeyboardInterrupt\u001b[0m                         Traceback (most recent call last)",
            "\u001b[0;32m<ipython-input-19-ac1e88cee8d1>\u001b[0m in \u001b[0;36m<module>\u001b[0;34m\u001b[0m\n\u001b[1;32m     11\u001b[0m                              \u001b[0mbatch_size\u001b[0m\u001b[0;34m=\u001b[0m\u001b[0mbatch_size\u001b[0m\u001b[0;34m,\u001b[0m\u001b[0;34m\u001b[0m\u001b[0;34m\u001b[0m\u001b[0m\n\u001b[1;32m     12\u001b[0m                              shuffle=True)\n\u001b[0;32m---> 13\u001b[0;31m     \u001b[0mloss\u001b[0m \u001b[0;34m=\u001b[0m \u001b[0mtrain\u001b[0m\u001b[0;34m(\u001b[0m\u001b[0;34m)\u001b[0m\u001b[0;34m\u001b[0m\u001b[0;34m\u001b[0m\u001b[0m\n\u001b[0m\u001b[1;32m     14\u001b[0m     \u001b[0mtrain_loss\u001b[0m\u001b[0;34m.\u001b[0m\u001b[0mappend\u001b[0m\u001b[0;34m(\u001b[0m\u001b[0mloss\u001b[0m\u001b[0;34m)\u001b[0m\u001b[0;34m\u001b[0m\u001b[0;34m\u001b[0m\u001b[0m\n",
            "\u001b[0;32m<ipython-input-18-2f345761fe00>\u001b[0m in \u001b[0;36mtrain\u001b[0;34m()\u001b[0m\n\u001b[1;32m     21\u001b[0m             \u001b[0mtext_embedding\u001b[0m \u001b[0;34m=\u001b[0m \u001b[0mtext_enc\u001b[0m\u001b[0;34m(\u001b[0m\u001b[0mtext_batch\u001b[0m\u001b[0;34m)\u001b[0m\u001b[0;34m\u001b[0m\u001b[0;34m\u001b[0m\u001b[0m\n\u001b[1;32m     22\u001b[0m         \u001b[0mloss\u001b[0m \u001b[0;34m=\u001b[0m \u001b[0mcriterion\u001b[0m\u001b[0;34m(\u001b[0m\u001b[0mimage_embedding\u001b[0m\u001b[0;34m,\u001b[0m \u001b[0mtext_embedding\u001b[0m\u001b[0;34m,\u001b[0m \u001b[0mlabel_batch\u001b[0m\u001b[0;34m)\u001b[0m\u001b[0;34m\u001b[0m\u001b[0;34m\u001b[0m\u001b[0m\n\u001b[0;32m---> 23\u001b[0;31m         \u001b[0mloss\u001b[0m\u001b[0;34m.\u001b[0m\u001b[0mbackward\u001b[0m\u001b[0;34m(\u001b[0m\u001b[0;34m)\u001b[0m\u001b[0;34m\u001b[0m\u001b[0;34m\u001b[0m\u001b[0m\n\u001b[0m\u001b[1;32m     24\u001b[0m         \u001b[0mimage_optimizer\u001b[0m\u001b[0;34m.\u001b[0m\u001b[0mstep\u001b[0m\u001b[0;34m(\u001b[0m\u001b[0;34m)\u001b[0m\u001b[0;34m\u001b[0m\u001b[0;34m\u001b[0m\u001b[0m\n\u001b[1;32m     25\u001b[0m         \u001b[0mtext_optimizer\u001b[0m\u001b[0;34m.\u001b[0m\u001b[0mstep\u001b[0m\u001b[0;34m(\u001b[0m\u001b[0;34m)\u001b[0m\u001b[0;34m\u001b[0m\u001b[0;34m\u001b[0m\u001b[0m\n",
            "\u001b[0;32m/usr/local/lib/python3.8/dist-packages/torch/_tensor.py\u001b[0m in \u001b[0;36mbackward\u001b[0;34m(self, gradient, retain_graph, create_graph, inputs)\u001b[0m\n\u001b[1;32m    485\u001b[0m                 \u001b[0minputs\u001b[0m\u001b[0;34m=\u001b[0m\u001b[0minputs\u001b[0m\u001b[0;34m,\u001b[0m\u001b[0;34m\u001b[0m\u001b[0;34m\u001b[0m\u001b[0m\n\u001b[1;32m    486\u001b[0m             )\n\u001b[0;32m--> 487\u001b[0;31m         torch.autograd.backward(\n\u001b[0m\u001b[1;32m    488\u001b[0m             \u001b[0mself\u001b[0m\u001b[0;34m,\u001b[0m \u001b[0mgradient\u001b[0m\u001b[0;34m,\u001b[0m \u001b[0mretain_graph\u001b[0m\u001b[0;34m,\u001b[0m \u001b[0mcreate_graph\u001b[0m\u001b[0;34m,\u001b[0m \u001b[0minputs\u001b[0m\u001b[0;34m=\u001b[0m\u001b[0minputs\u001b[0m\u001b[0;34m\u001b[0m\u001b[0;34m\u001b[0m\u001b[0m\n\u001b[1;32m    489\u001b[0m         )\n",
            "\u001b[0;32m/usr/local/lib/python3.8/dist-packages/torch/autograd/__init__.py\u001b[0m in \u001b[0;36mbackward\u001b[0;34m(tensors, grad_tensors, retain_graph, create_graph, grad_variables, inputs)\u001b[0m\n\u001b[1;32m    195\u001b[0m     \u001b[0;31m# some Python versions print out the first line of a multi-line function\u001b[0m\u001b[0;34m\u001b[0m\u001b[0;34m\u001b[0m\u001b[0;34m\u001b[0m\u001b[0m\n\u001b[1;32m    196\u001b[0m     \u001b[0;31m# calls in the traceback and some print out the last line\u001b[0m\u001b[0;34m\u001b[0m\u001b[0;34m\u001b[0m\u001b[0;34m\u001b[0m\u001b[0m\n\u001b[0;32m--> 197\u001b[0;31m     Variable._execution_engine.run_backward(  # Calls into the C++ engine to run the backward pass\n\u001b[0m\u001b[1;32m    198\u001b[0m         \u001b[0mtensors\u001b[0m\u001b[0;34m,\u001b[0m \u001b[0mgrad_tensors_\u001b[0m\u001b[0;34m,\u001b[0m \u001b[0mretain_graph\u001b[0m\u001b[0;34m,\u001b[0m \u001b[0mcreate_graph\u001b[0m\u001b[0;34m,\u001b[0m \u001b[0minputs\u001b[0m\u001b[0;34m,\u001b[0m\u001b[0;34m\u001b[0m\u001b[0;34m\u001b[0m\u001b[0m\n\u001b[1;32m    199\u001b[0m         allow_unreachable=True, accumulate_grad=True)  # Calls into the C++ engine to run the backward pass\n",
            "\u001b[0;31mKeyboardInterrupt\u001b[0m: "
          ]
        }
      ]
    },
    {
      "cell_type": "code",
      "source": [
        "plt.figure(figsize=(5,3))\n",
        "plt.plot(np.arange(1, epochs + 1), train_loss)\n",
        "plt.xlabel(\"epoch\")\n",
        "plt.ylabel(\"loss\")\n",
        "plt.grid()\n",
        "plt.show()"
      ],
      "metadata": {
        "id": "VyZA-T5AOqCY"
      },
      "execution_count": null,
      "outputs": []
    },
    {
      "cell_type": "code",
      "source": [],
      "metadata": {
        "id": "9STcV0r1aRZu"
      },
      "execution_count": null,
      "outputs": []
    }
  ]
}