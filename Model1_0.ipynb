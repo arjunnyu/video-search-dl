{
  "nbformat": 4,
  "nbformat_minor": 0,
  "metadata": {
    "colab": {
      "provenance": []
    },
    "kernelspec": {
      "name": "python3",
      "display_name": "Python 3"
    },
    "language_info": {
      "name": "python"
    },
    "accelerator": "GPU",
    "gpuClass": "standard"
  },
  "cells": [
    {
      "cell_type": "markdown",
      "source": [
        "# CSGY 6953 Deep Learning Final Project\n",
        "In this project, we will implement a dual-encoder model for image search. In particular, our model will be fed a text query and will return several images that are related to the query. To do this task, our model will be trained so that it embeds both image and text data into the same space, and importantly, encodes relevant data to be close each other in the embedding space. This will be done by developing two encoders, one for image processing and the other for text encoding, and training them by a similarity-based loss function. "
      ],
      "metadata": {
        "id": "RUd1BrE-bu-q"
      }
    },
    {
      "cell_type": "code",
      "execution_count": 28,
      "metadata": {
        "id": "mKP9xsmBbtpD"
      },
      "outputs": [],
      "source": [
        "import numpy as np\n",
        "import matplotlib.pyplot as plt\n",
        "import seaborn as sns\n",
        "import pickle\n",
        "import random\n",
        "import tqdm\n",
        "import math"
      ]
    },
    {
      "cell_type": "code",
      "source": [
        "from google.colab import drive\n",
        "drive.mount('/content/drive')"
      ],
      "metadata": {
        "colab": {
          "base_uri": "https://localhost:8080/"
        },
        "id": "n3RxFMzKb6G7",
        "outputId": "d767d30d-b90d-4864-b557-9e01c81a8627"
      },
      "execution_count": 2,
      "outputs": [
        {
          "output_type": "stream",
          "name": "stdout",
          "text": [
            "Drive already mounted at /content/drive; to attempt to forcibly remount, call drive.mount(\"/content/drive\", force_remount=True).\n"
          ]
        }
      ]
    },
    {
      "cell_type": "code",
      "source": [
        "with open(f\"drive/My Drive/finalproj/data/dataset.pkl\", \"rb\") as f:\n",
        "    dataset = pickle.load(f)"
      ],
      "metadata": {
        "id": "zBRBG9tKb7lV"
      },
      "execution_count": 3,
      "outputs": []
    },
    {
      "cell_type": "code",
      "source": [
        "train_pct = 0.7\n",
        "threshold = int(len(dataset[\"images\"]) * train_pct)\n",
        "train_images = dataset[\"images\"][:threshold]\n",
        "train_texts = dataset[\"texts\"][:threshold * 10]\n",
        "test_images = dataset[\"images\"][threshold:]\n",
        "test_texts = dataset[\"texts\"][threshold * 10:]\n",
        "print(f\"Training images: \", len(train_images))\n",
        "print(f\"Training texts: \", len(train_texts))\n",
        "print(f\"Test images: \", len(test_images))\n",
        "print(f\"Test texts: \", len(test_texts))"
      ],
      "metadata": {
        "colab": {
          "base_uri": "https://localhost:8080/"
        },
        "id": "DSHWKSf4b_Ii",
        "outputId": "d0ee284a-5340-47c5-96d5-c2bcfb5651fe"
      },
      "execution_count": 4,
      "outputs": [
        {
          "output_type": "stream",
          "name": "stdout",
          "text": [
            "Training images:  3150\n",
            "Training texts:  31500\n",
            "Test images:  1350\n",
            "Test texts:  13500\n"
          ]
        }
      ]
    },
    {
      "cell_type": "code",
      "source": [
        "import torch\n",
        "from torch.utils.data import Dataset, DataLoader\n",
        "import torchvision\n",
        "!pip install transformers\n",
        "from transformers import BertModel, BertTokenizerFast"
      ],
      "metadata": {
        "colab": {
          "base_uri": "https://localhost:8080/"
        },
        "id": "ovnhwbLdcM6K",
        "outputId": "638e3f5f-d1bf-47ea-a5fa-3dfdffc2d792"
      },
      "execution_count": 5,
      "outputs": [
        {
          "output_type": "stream",
          "name": "stdout",
          "text": [
            "Looking in indexes: https://pypi.org/simple, https://us-python.pkg.dev/colab-wheels/public/simple/\n",
            "Requirement already satisfied: transformers in /usr/local/lib/python3.8/dist-packages (4.25.1)\n",
            "Requirement already satisfied: huggingface-hub<1.0,>=0.10.0 in /usr/local/lib/python3.8/dist-packages (from transformers) (0.11.1)\n",
            "Requirement already satisfied: packaging>=20.0 in /usr/local/lib/python3.8/dist-packages (from transformers) (21.3)\n",
            "Requirement already satisfied: tokenizers!=0.11.3,<0.14,>=0.11.1 in /usr/local/lib/python3.8/dist-packages (from transformers) (0.13.2)\n",
            "Requirement already satisfied: tqdm>=4.27 in /usr/local/lib/python3.8/dist-packages (from transformers) (4.64.1)\n",
            "Requirement already satisfied: requests in /usr/local/lib/python3.8/dist-packages (from transformers) (2.23.0)\n",
            "Requirement already satisfied: numpy>=1.17 in /usr/local/lib/python3.8/dist-packages (from transformers) (1.21.6)\n",
            "Requirement already satisfied: pyyaml>=5.1 in /usr/local/lib/python3.8/dist-packages (from transformers) (6.0)\n",
            "Requirement already satisfied: regex!=2019.12.17 in /usr/local/lib/python3.8/dist-packages (from transformers) (2022.6.2)\n",
            "Requirement already satisfied: filelock in /usr/local/lib/python3.8/dist-packages (from transformers) (3.8.0)\n",
            "Requirement already satisfied: typing-extensions>=3.7.4.3 in /usr/local/lib/python3.8/dist-packages (from huggingface-hub<1.0,>=0.10.0->transformers) (4.4.0)\n",
            "Requirement already satisfied: pyparsing!=3.0.5,>=2.0.2 in /usr/local/lib/python3.8/dist-packages (from packaging>=20.0->transformers) (3.0.9)\n",
            "Requirement already satisfied: urllib3!=1.25.0,!=1.25.1,<1.26,>=1.21.1 in /usr/local/lib/python3.8/dist-packages (from requests->transformers) (1.24.3)\n",
            "Requirement already satisfied: chardet<4,>=3.0.2 in /usr/local/lib/python3.8/dist-packages (from requests->transformers) (3.0.4)\n",
            "Requirement already satisfied: certifi>=2017.4.17 in /usr/local/lib/python3.8/dist-packages (from requests->transformers) (2022.9.24)\n",
            "Requirement already satisfied: idna<3,>=2.5 in /usr/local/lib/python3.8/dist-packages (from requests->transformers) (2.10)\n"
          ]
        }
      ]
    },
    {
      "cell_type": "code",
      "source": [
        "device = torch.device(\"cuda\" if torch.cuda.is_available() else \"cpu\")\n",
        "print(\"The device is \" + device.type + \".\")"
      ],
      "metadata": {
        "colab": {
          "base_uri": "https://localhost:8080/"
        },
        "id": "McKrfpbPcC9N",
        "outputId": "8a96f3f1-2801-4862-a336-bb0b9afa7742"
      },
      "execution_count": 6,
      "outputs": [
        {
          "output_type": "stream",
          "name": "stdout",
          "text": [
            "The device is cuda.\n"
          ]
        }
      ]
    },
    {
      "cell_type": "markdown",
      "source": [
        "## Encoders\n",
        "Encoders denote the pretrained part of the network. In both image and text encoders, they returns an 1-D array. This is fed into fully connected layers having trainable parameters before computing the similarity. This FC layers will be defined separately, which we call Encoder Head. <br>\n",
        "<br>\n",
        "Encoder class must have\n",
        "* Pretrained model and forward function.\n",
        "* self.output_size: the size of the 1-D array. (This may be a tuple in the later step when we fine-tune the output of the language models.)\n",
        "* self.num_parameters: This is not necessary but we store the number of pretrained parameters here."
      ],
      "metadata": {
        "id": "HP1kpMN29DZ-"
      }
    },
    {
      "cell_type": "code",
      "source": [
        "class InceptionV3Encoder(torch.nn.Module):\n",
        "    def __init__(self, embed_dim):\n",
        "        super(InceptionV3Encoder, self).__init__()\n",
        "\n",
        "        self.incep3 = torchvision.models.inception_v3(pretrained=True)\n",
        "        self.incep3.aux_logits = False # We don't use the auxiliary output.\n",
        "        self.output_size = self.incep3.fc.in_features # in_features=2048.\n",
        "        self.incep3.fc = torch.nn.Identity() # Deactivate the fc layer. torch.nn.Identity has no parameters.\n",
        "        for parameter in self.incep3.parameters():\n",
        "            parameter.requires_grad = False # Freeze all the parameters.\n",
        "        self.num_parameters = sum([np.prod(params.size()) for params in self.incep3.parameters()])\n",
        "\n",
        "    def forward(self, x):\n",
        "        return self.incep3(x)\n",
        "\n",
        "class BertEncoder(torch.nn.Module):\n",
        "    def __init__(self, embed_dim):\n",
        "        super(BertEncoder, self).__init__()\n",
        "\n",
        "        self.bert = BertModel.from_pretrained(\"bert-base-uncased\", output_attentions=False) # With bert-base-uncased, all the input are lowercased before being tokenized.\n",
        "        self.output_size = self.bert.config.hidden_size # hidden_size=768.\n",
        "        for parameter in self.bert.parameters():\n",
        "            parameter.requires_grad = False # Freeze all the parameters.\n",
        "        self.num_parameters = sum([np.prod(params.size()) for params in self.bert.parameters()])\n",
        "    \n",
        "    def forward(self, input_ids, attention_mask):\n",
        "        last_hidden, _ = self.bert(input_ids=input_ids, attention_mask=attention_mask, return_dict=False)\n",
        "        return last_hidden[:, 0]\n",
        "\n",
        "def Encoder(name, embed_dim=128):\n",
        "    if name == \"InceptionV3\":\n",
        "        return InceptionV3Encoder(embed_dim)\n",
        "    elif name == \"BERT\":\n",
        "        return BertEncoder(embed_dim)\n",
        "    else:\n",
        "        raise ValueError(name + \" has not been implemented!\")"
      ],
      "metadata": {
        "id": "Ztwr4VqicKvc"
      },
      "execution_count": 7,
      "outputs": []
    },
    {
      "cell_type": "markdown",
      "source": [
        "## Encoder Head\n",
        "Encoder Heads are defined as follows. While our Encoders have only pretrained parameters, which are freezed during the training, all the parameters in Encoder Heads are trainable. Usually, they consists of one or more fully connected layers. <br>\n",
        "<br>\n",
        "Encoder Head class must have\n",
        "* Trainable model and forward function.\n",
        "* self.num_parameters: This is not necessary but we store the number of trainable parameters here."
      ],
      "metadata": {
        "id": "gyEsaU9F-oR8"
      }
    },
    {
      "cell_type": "code",
      "source": [
        "class EncoderHead1(torch.nn.Module):\n",
        "    def __init__(self, input_dim, embed_dim=128):\n",
        "        super(EncoderHead1, self).__init__()\n",
        "\n",
        "        self.fc = torch.nn.Sequential(\n",
        "            torch.nn.Linear(input_dim, 512),\n",
        "            torch.nn.ReLU(),\n",
        "            torch.nn.Linear(512, embed_dim),\n",
        "            torch.nn.Tanh()\n",
        "        )\n",
        "        self.num_parameters = sum([np.prod(params.size()) for params in self.fc.parameters()])\n",
        "\n",
        "    def forward(self, x):\n",
        "        return self.fc(x)\n",
        "\n",
        "def EncoderHead(name, input_dim, embed_dim=128):\n",
        "    if name == \"normal_1\":\n",
        "        return EncoderHead1(input_dim, embed_dim)"
      ],
      "metadata": {
        "id": "wQw6g4t-8Ki6"
      },
      "execution_count": 8,
      "outputs": []
    },
    {
      "cell_type": "markdown",
      "source": [
        "## Preprocessors\n",
        "The original dataset has lists of numbers and texts. To feed them into our Encoders, we need to preprocess them into the required form. This work is done by Preprocessors."
      ],
      "metadata": {
        "id": "Y1YOuadS_k22"
      }
    },
    {
      "cell_type": "code",
      "source": [
        "class ImagePreprocessor():\n",
        "    def process(self, x):\n",
        "        return torch.swapaxes(torch.swapaxes(x / 255.0, 3, 2), 2, 1)\n",
        "\n",
        "class BertPreprocessor():\n",
        "    def __init__(self, max_len=50):\n",
        "        self.max_len = max_len\n",
        "        self.tokenizer = BertTokenizerFast.from_pretrained(\"bert-base-uncased\", model_max_length=self.max_len)\n",
        "    \n",
        "    def process(self, x):\n",
        "        padded_list = self.tokenizer.batch_encode_plus(x, padding=True)\n",
        "        input_ids = torch.LongTensor(np.array(padded_list[\"input_ids\"])) # It looks like bypassing numpy is faster.\n",
        "        attention_mask = torch.LongTensor(np.array(padded_list[\"attention_mask\"]))\n",
        "        return input_ids, attention_mask\n",
        "\n",
        "def Preprocessor(name, max_len=70):\n",
        "    if name in [\"InceptionV3\"]:\n",
        "        return ImagePreprocessor()\n",
        "    elif name in [\"BERT\"]:\n",
        "        return BertPreprocessor(max_len)\n",
        "    else:\n",
        "        raise ValueError(name + \" has not been implemented!\")"
      ],
      "metadata": {
        "id": "0-qhNwq6eLaR"
      },
      "execution_count": 9,
      "outputs": []
    },
    {
      "cell_type": "markdown",
      "source": [
        "## Dataset \n",
        "To use the DataLoader, we need the following DualEncoderDataset class. It does\n",
        "* Preprocess the data and store the output of Encoders.\n",
        "* Create the positive and negative pairs of an image and a text.\n",
        "* neg_rate controls the rate of negative pairs. For each positive pair, it generates neg_rate negative pairs."
      ],
      "metadata": {
        "id": "Wu9d5BVaAD7A"
      }
    },
    {
      "cell_type": "code",
      "source": [
        "class DualEncoderDataset(Dataset):\n",
        "    def __init__(self, images, texts, device, image_model, text_model, embed_dim=128, max_len=70, neg_rate=4, preprocessing_batch_size=32):\n",
        "        self.num_images = len(images)\n",
        "        self.num_texts = len(texts)\n",
        "        self.image_text_rate = int(self.num_texts / self.num_images)\n",
        "        self.num_negative = int(self.num_texts * neg_rate)\n",
        "        self.random_map = []\n",
        "        self.shuffle()\n",
        "\n",
        "        print(\"\\nPreprocessing image data...\")\n",
        "        self.imagedata_preprocessed = []\n",
        "        image_encoder = Encoder(image_model, embed_dim).to(device)\n",
        "        image_preprocessor = Preprocessor(image_model)\n",
        "        num_batches = math.ceil(self.num_images / preprocessing_batch_size)\n",
        "        for i in tqdm.tqdm(range(num_batches)):\n",
        "            if i < num_batches - 1:\n",
        "                image_batch = images[i * preprocessing_batch_size : (i + 1) * preprocessing_batch_size]\n",
        "            else:\n",
        "                image_batch = images[i * preprocessing_batch_size :]\n",
        "            image_batch = torch.FloatTensor(np.array(image_batch)).to(device)\n",
        "            self.imagedata_preprocessed += image_encoder(image_preprocessor.process(image_batch)).tolist()\n",
        "        self.image_encoder_num_parameters = image_encoder.num_parameters\n",
        "        self.image_encoder_output_size = image_encoder.output_size\n",
        "\n",
        "        print(\"Preprocessing text data...\")\n",
        "        self.textdata_preprocessed = []\n",
        "        text_encoder = Encoder(text_model, embed_dim).to(device)\n",
        "        text_preprocessor = Preprocessor(text_model, max_len)\n",
        "        num_batches = math.ceil(self.num_texts / preprocessing_batch_size)\n",
        "        for i in tqdm.tqdm(range(num_batches)):\n",
        "            if i < num_batches - 1:\n",
        "                text_batch = texts[i * preprocessing_batch_size : (i + 1) * preprocessing_batch_size]\n",
        "            else:\n",
        "                text_batch = texts[i * preprocessing_batch_size :]\n",
        "            text_batch, attention_batch = text_preprocessor.process(text_batch)\n",
        "            text_batch = text_batch.to(device)\n",
        "            if attention_batch is not None:\n",
        "                attention_batch = attention_batch.to(device)\n",
        "                self.textdata_preprocessed += text_encoder(text_batch, attention_batch).tolist()\n",
        "            else:\n",
        "                self.textdata_preprocessed += text_encoder(text_batch).tolist()\n",
        "        self.text_encoder_num_parameters = text_encoder.num_parameters\n",
        "        self.text_encoder_output_size = text_encoder.output_size\n",
        "\n",
        "    def shuffle(self):\n",
        "        self.random_map = np.random.randint(0, self.num_texts - self.image_text_rate, self.num_negative)\n",
        "        for i in range(self.num_negative):\n",
        "            if self.random_map[i] >= i % self.num_texts // self.image_text_rate * self.image_text_rate:\n",
        "                self.random_map[i] += self.image_text_rate\n",
        "    \n",
        "    def set_neg_rate(self, neg_rate):\n",
        "        self.num_negative = int(self.num_texts * neg_rate)\n",
        "        self.random_map = []\n",
        "        self.shuffle()\n",
        "    \n",
        "    def print_num_params(self):\n",
        "        print(f\"\\n=== Image Encoder ===\")\n",
        "        print(f\"  Pretrained Parameters: {self.image_encoder_num_parameters:,}\")\n",
        "        print(f\"\\n=== Text Encoder ===\")\n",
        "        print(f\"  Pretrained Parameters: {self.text_encoder_num_parameters:,}\")\n",
        "    \n",
        "    def __len__(self):\n",
        "        return self.num_texts + self.num_negative\n",
        "\n",
        "    def __getitem__(self, sample_idx):\n",
        "        if torch.is_tensor(sample_idx):\n",
        "            sample_idx = sample_idx[0].tolist()\n",
        "        image_idx = sample_idx % self.num_texts // self.image_text_rate\n",
        "        image = self.imagedata_preprocessed[image_idx]\n",
        "        image = torch.from_numpy(np.array(image)).to(torch.float32)\n",
        "\n",
        "        if sample_idx < self.num_texts:\n",
        "            text_idx = sample_idx\n",
        "        else:\n",
        "            text_idx = self.random_map[sample_idx - self.num_texts]\n",
        "        text = self.textdata_preprocessed[text_idx]\n",
        "        text = torch.from_numpy(np.array(text)).to(torch.float32)\n",
        "        \n",
        "        label = 1 if sample_idx < self.num_texts else -1\n",
        "        label = torch.from_numpy(np.array(label)).to(torch.float32)\n",
        "\n",
        "        sample = {\"images\": image, \"texts\": text, \"labels\": label, \"image_idx\": image_idx, \"text_idx\": text_idx}\n",
        "        return sample"
      ],
      "metadata": {
        "id": "-T_v4nqqeiLc"
      },
      "execution_count": 10,
      "outputs": []
    },
    {
      "cell_type": "markdown",
      "source": [
        "## Constructing Dataset\n",
        "Set the parameters; embed_dim is the dimensionality of the embedding space, and max_len is the maximum length of the encoded text sequence. It takes time to construct the dataset because preprocessing and feed forwarding the pretrained nets are performed."
      ],
      "metadata": {
        "id": "zPRQJYFbBRqX"
      }
    },
    {
      "cell_type": "code",
      "source": [
        "embed_dim = 100\n",
        "max_len = 70\n",
        "image_encoder_model = \"InceptionV3\"\n",
        "text_encoder_model = \"BERT\"\n",
        "image_head_model = \"normal_1\"\n",
        "text_head_model = \"normal_1\"\n",
        "\n",
        "TrainingDataset = DualEncoderDataset(train_images, train_texts, device, image_encoder_model, text_encoder_model,\n",
        "                                     embed_dim=embed_dim, max_len=max_len, neg_rate=2)\n",
        "TestDataset = DualEncoderDataset(test_images, test_texts, device, image_encoder_model, text_encoder_model, \n",
        "                                 embed_dim=embed_dim, max_len=max_len, neg_rate=2)\n",
        "TrainingDataset.print_num_params()"
      ],
      "metadata": {
        "colab": {
          "base_uri": "https://localhost:8080/"
        },
        "id": "ZLpcQs9tjTyK",
        "outputId": "bcff4f32-7951-481b-fc35-3debff086a1f"
      },
      "execution_count": 11,
      "outputs": [
        {
          "output_type": "stream",
          "name": "stdout",
          "text": [
            "\n",
            "Preprocessing image data...\n"
          ]
        },
        {
          "output_type": "stream",
          "name": "stderr",
          "text": [
            "/usr/local/lib/python3.8/dist-packages/torchvision/models/_utils.py:208: UserWarning: The parameter 'pretrained' is deprecated since 0.13 and may be removed in the future, please use 'weights' instead.\n",
            "  warnings.warn(\n",
            "/usr/local/lib/python3.8/dist-packages/torchvision/models/_utils.py:223: UserWarning: Arguments other than a weight enum or `None` for 'weights' are deprecated since 0.13 and may be removed in the future. The current behavior is equivalent to passing `weights=Inception_V3_Weights.IMAGENET1K_V1`. You can also use `weights=Inception_V3_Weights.DEFAULT` to get the most up-to-date weights.\n",
            "  warnings.warn(msg)\n",
            "100%|██████████| 99/99 [00:17<00:00,  5.74it/s]\n"
          ]
        },
        {
          "output_type": "stream",
          "name": "stdout",
          "text": [
            "Preprocessing text data...\n"
          ]
        },
        {
          "output_type": "stream",
          "name": "stderr",
          "text": [
            "Some weights of the model checkpoint at bert-base-uncased were not used when initializing BertModel: ['cls.predictions.bias', 'cls.predictions.transform.dense.bias', 'cls.predictions.transform.LayerNorm.weight', 'cls.seq_relationship.weight', 'cls.seq_relationship.bias', 'cls.predictions.decoder.weight', 'cls.predictions.transform.dense.weight', 'cls.predictions.transform.LayerNorm.bias']\n",
            "- This IS expected if you are initializing BertModel from the checkpoint of a model trained on another task or with another architecture (e.g. initializing a BertForSequenceClassification model from a BertForPreTraining model).\n",
            "- This IS NOT expected if you are initializing BertModel from the checkpoint of a model that you expect to be exactly identical (initializing a BertForSequenceClassification model from a BertForSequenceClassification model).\n",
            "100%|██████████| 985/985 [00:50<00:00, 19.39it/s]\n"
          ]
        },
        {
          "output_type": "stream",
          "name": "stdout",
          "text": [
            "\n",
            "\n",
            "=== Image Encoder ===\n",
            "  Pretrained Parameters: 25,112,264\n",
            "\n",
            "=== Text Encoder ===\n",
            "  Pretrained Parameters: 109,482,240\n",
            "\n",
            "Preprocessing image data...\n"
          ]
        },
        {
          "output_type": "stream",
          "name": "stderr",
          "text": [
            "100%|██████████| 43/43 [00:06<00:00,  6.83it/s]\n"
          ]
        },
        {
          "output_type": "stream",
          "name": "stdout",
          "text": [
            "Preprocessing text data...\n"
          ]
        },
        {
          "output_type": "stream",
          "name": "stderr",
          "text": [
            "Some weights of the model checkpoint at bert-base-uncased were not used when initializing BertModel: ['cls.predictions.bias', 'cls.predictions.transform.dense.bias', 'cls.predictions.transform.LayerNorm.weight', 'cls.seq_relationship.weight', 'cls.seq_relationship.bias', 'cls.predictions.decoder.weight', 'cls.predictions.transform.dense.weight', 'cls.predictions.transform.LayerNorm.bias']\n",
            "- This IS expected if you are initializing BertModel from the checkpoint of a model trained on another task or with another architecture (e.g. initializing a BertForSequenceClassification model from a BertForPreTraining model).\n",
            "- This IS NOT expected if you are initializing BertModel from the checkpoint of a model that you expect to be exactly identical (initializing a BertForSequenceClassification model from a BertForSequenceClassification model).\n",
            "100%|██████████| 422/422 [00:21<00:00, 19.47it/s]\n"
          ]
        }
      ]
    },
    {
      "cell_type": "markdown",
      "source": [
        "## Encoder Heads, Loss Function, Optimizer\n",
        "Recall that all the trainable parameters reside in Encoder Heads. We also set the loss function and optimizer for each Encoder Head."
      ],
      "metadata": {
        "id": "TnfwCWkTB6qS"
      }
    },
    {
      "cell_type": "code",
      "source": [
        "image_head = EncoderHead(image_head_model, TrainingDataset.image_encoder_output_size, embed_dim).to(device)\n",
        "text_head = EncoderHead(text_head_model, TrainingDataset.text_encoder_output_size, embed_dim).to(device)\n",
        "print(f\"=== Image Encoder Head ===\")\n",
        "print(f\"  Trainable Parameters: {image_head.num_parameters:,}\")\n",
        "print(f\"\\n=== Text Encoder Head ===\")\n",
        "print(f\"  Trainable Parameters: {text_head.num_parameters:,}\")\n",
        "\n",
        "criterion = torch.nn.CosineEmbeddingLoss(margin=0.1, reduction='sum') # Recipe 1M+ paper sets margin=0.1.\n",
        "image_optimizer = torch.optim.Adam(image_head.parameters(), lr=0.0005)\n",
        "text_optimizer = torch.optim.Adam(text_head.parameters(), lr=0.0005)"
      ],
      "metadata": {
        "colab": {
          "base_uri": "https://localhost:8080/"
        },
        "id": "bNC5ZoDv7uBN",
        "outputId": "fb2dd728-ecf6-4f56-dc6c-fb19b45d0597"
      },
      "execution_count": 25,
      "outputs": [
        {
          "output_type": "stream",
          "name": "stdout",
          "text": [
            "=== Image Encoder Head ===\n",
            "  Trainable Parameters: 1,100,388\n",
            "\n",
            "=== Text Encoder Head ===\n",
            "  Trainable Parameters: 445,028\n"
          ]
        }
      ]
    },
    {
      "cell_type": "markdown",
      "source": [
        "## Training Function\n",
        "Training and evaluation functions. As we set the CosineEmbeddingLoss with reduction=\"sum\", all the loss are aggregated and divided by the number of samples at the end. <br>\n",
        "With our naive algorithm to compute the Median Rank (MedR) and Recall at top K (R@K), it takes time to evaluate them. By setting only_loss=True, which is the default setting, we can skip the heavy load of computing MedR and R@K. <br>\n",
        "sim_mat stores the cosine similarity between all the image-text pairs. It has a shape (# images * # texts)."
      ],
      "metadata": {
        "id": "wU21UlUMCVB6"
      }
    },
    {
      "cell_type": "code",
      "source": [
        "def train():\n",
        "    image_head.train()\n",
        "    text_head.train()\n",
        "    train_loss = 0\n",
        "    num_samples = 0\n",
        "\n",
        "    for batch in trainloader:\n",
        "        image_optimizer.zero_grad()\n",
        "        text_optimizer.zero_grad()\n",
        "        image_embedding = image_head(batch[\"images\"].to(device))\n",
        "        text_embedding = text_head(batch[\"texts\"].to(device))\n",
        "        loss = criterion(image_embedding, text_embedding, batch[\"labels\"].to(device))\n",
        "        loss.backward()\n",
        "        image_optimizer.step()\n",
        "        text_optimizer.step()\n",
        "        train_loss += loss.item()\n",
        "        num_samples += batch[\"labels\"].size(0)\n",
        "    \n",
        "    train_loss /= num_samples\n",
        "    return train_loss\n",
        "\n",
        "def eval(only_loss=True, K=10):\n",
        "    image_head.eval()\n",
        "    text_head.eval()\n",
        "    eval_loss = 0\n",
        "    num_samples = 0\n",
        "    image_embeddings = [None for _ in range(TestDataset.num_images)]\n",
        "    text_embeddings = [None for _ in range(TestDataset.num_texts)]\n",
        "    with torch.no_grad():\n",
        "        for batch in testloader:\n",
        "            image_embedding = image_head(batch[\"images\"].to(device))\n",
        "            text_embedding = text_head(batch[\"texts\"].to(device))\n",
        "            for i in range(len(batch[\"image_idx\"])):\n",
        "                if image_embeddings[batch[\"image_idx\"][i]] is None:\n",
        "                    image_embedding_numpy = image_embedding[i].cpu().numpy()\n",
        "                    image_embeddings[batch[\"image_idx\"][i]] = image_embedding_numpy / np.linalg.norm(image_embedding_numpy, ord=2)\n",
        "            for i in range(len(batch[\"text_idx\"])):\n",
        "                if text_embeddings[batch[\"text_idx\"][i]] is None:\n",
        "                    text_embedding_numpy = text_embedding[i].cpu().numpy()\n",
        "                    text_embeddings[batch[\"text_idx\"][i]] = text_embedding_numpy / np.linalg.norm(text_embedding_numpy, ord=2)\n",
        "            loss = criterion(image_embedding, text_embedding, batch[\"labels\"].to(device))\n",
        "            eval_loss += loss.item()\n",
        "            num_samples += batch[\"labels\"].size(0)\n",
        "    eval_loss /= num_samples\n",
        "\n",
        "    sim_mat = np.zeros((TestDataset.num_images, TestDataset.num_texts))\n",
        "    if only_loss:\n",
        "        MedR = None\n",
        "        RatK = None\n",
        "    else: # Even with our small dataset, computing similarity between all the image-text pairs takes about 5 minutes.\n",
        "        for i in range(TestDataset.num_images):\n",
        "            for j in range(TestDataset.num_texts):\n",
        "                sim_mat[i][j] = sum(image_embeddings[i] * text_embeddings[j])\n",
        "        rank = np.argsort(-sim_mat, axis=0)\n",
        "        ranking = np.array([rank[i // TestDataset.image_text_rate, i] for i in range(TestDataset.num_texts)])\n",
        "        MedR = np.median(ranking)\n",
        "        RatK = sum(ranking < K) / len(ranking)\n",
        "    return eval_loss, MedR, RatK, sim_mat"
      ],
      "metadata": {
        "id": "aa1ZFhZU7usq"
      },
      "execution_count": 26,
      "outputs": []
    },
    {
      "cell_type": "code",
      "source": [
        "epochs = 20\n",
        "batch_size = 128\n",
        "train_loss = []\n",
        "eval_loss = []\n",
        "trainloader = DataLoader(TrainingDataset, batch_size=batch_size, shuffle=True)\n",
        "testloader = DataLoader(TestDataset, batch_size=batch_size, shuffle=False)\n",
        "\n",
        "print(\"Start Training...\")\n",
        "for epoch in range(epochs):\n",
        "    trainloss = train()\n",
        "    train_loss.append(trainloss)\n",
        "    evalloss, _, _, _ = eval()\n",
        "    eval_loss.append(evalloss)\n",
        "    if (epoch + 1) % 2 == 0:\n",
        "        print(\"Epoch: \" + str(epoch + 1) + \" | Training loss: \" + str(round(trainloss, 4)) + \" | Test loss: \" + str(round(evalloss, 4)))\n",
        "    # if (epoch + 1) % 4 == 0:\n",
        "    #     TrainingDataset.shuffle()\n",
        "    #     trainloader = DataLoader(TrainingDataset, batch_size=batch_size, shuffle=True)\n",
        "    #     print(\"   Negative pairs shuffled after epoch \" + str(epoch + 1))\n",
        "_, MedR, RatK, sim_mat = eval(only_loss=False)"
      ],
      "metadata": {
        "colab": {
          "base_uri": "https://localhost:8080/"
        },
        "id": "mcAxBdd1KTff",
        "outputId": "9ce7076d-9f79-4b8a-ae68-364ecf17ce3b"
      },
      "execution_count": 27,
      "outputs": [
        {
          "output_type": "stream",
          "name": "stdout",
          "text": [
            "Start Training...\n",
            "Epoch: 2 | Training loss: 0.1548 | Test loss: 0.1904\n",
            "Epoch: 4 | Training loss: 0.1125 | Test loss: 0.1828\n",
            "Epoch: 6 | Training loss: 0.0988 | Test loss: 0.1792\n",
            "Epoch: 8 | Training loss: 0.0897 | Test loss: 0.1733\n",
            "Epoch: 10 | Training loss: 0.0829 | Test loss: 0.1667\n",
            "Epoch: 12 | Training loss: 0.0779 | Test loss: 0.1693\n",
            "Epoch: 14 | Training loss: 0.0742 | Test loss: 0.1638\n",
            "Epoch: 16 | Training loss: 0.071 | Test loss: 0.1632\n",
            "Epoch: 18 | Training loss: 0.0686 | Test loss: 0.1605\n",
            "Epoch: 20 | Training loss: 0.0664 | Test loss: 0.1634\n"
          ]
        }
      ]
    },
    {
      "cell_type": "markdown",
      "source": [
        "Ideally in the heatmap, we want to have high values in diagonal entries and values less than margin (a parameter in CosineEmbeddingLoss) otherwise."
      ],
      "metadata": {
        "id": "R64JpbXsFxlA"
      }
    },
    {
      "cell_type": "code",
      "source": [
        "print(\"Median Rank: \" + str(round(MedR, 2)))\n",
        "print(\"Recall at K: \" + str(round(RatK, 2)))\n",
        "\n",
        "num_show = 50\n",
        "plt.figure(figsize=(10,8))\n",
        "rand_idx = np.random.randint(0, len(sim_mat), num_show)\n",
        "sns.heatmap(sim_mat[rand_idx][:, rand_idx * 10 + np.random.randint(0, 10, 1)], cmap=\"cool\")\n",
        "plt.title(\"Similarity Map for the First \" + str(num_show) + \" Images\")\n",
        "plt.show()\n",
        "\n",
        "plt.figure(figsize=(8,5))\n",
        "plt.plot(np.arange(1, epochs + 1), train_loss, label=\"training loss\")\n",
        "plt.plot(np.arange(1, epochs + 1), eval_loss, label=\"eval loss\")\n",
        "plt.title(\"Loss Curve\")\n",
        "plt.xlabel(\"epoch\")\n",
        "plt.ylabel(\"loss\")\n",
        "plt.grid()\n",
        "plt.legend()\n",
        "plt.show()"
      ],
      "metadata": {
        "colab": {
          "base_uri": "https://localhost:8080/",
          "height": 867
        },
        "id": "bXzfClrwct2V",
        "outputId": "ccfdd92c-168d-4432-b508-44a1c54fabd0"
      },
      "execution_count": 49,
      "outputs": [
        {
          "output_type": "stream",
          "name": "stdout",
          "text": [
            "Median Rank: 669.0\n",
            "Recall at K: 0.01\n"
          ]
        },
        {
          "output_type": "display_data",
          "data": {
            "text/plain": [
              "<Figure size 720x576 with 2 Axes>"
            ],
            "image/png": "[encoded data removed]"
          },
          "metadata": {
            "needs_background": "light"
          }
        },
        {
          "output_type": "display_data",
          "data": {
            "text/plain": [
              "<Figure size 576x360 with 1 Axes>"
            ],
            "image/png": "[encoded data removed]"
          },
          "metadata": {
            "needs_background": "light"
          }
        }
      ]
    },
    {
      "cell_type": "code",
      "source": [],
      "metadata": {
        "id": "-LS1DMBkfVms"
      },
      "execution_count": null,
      "outputs": []
    }
  ]
}